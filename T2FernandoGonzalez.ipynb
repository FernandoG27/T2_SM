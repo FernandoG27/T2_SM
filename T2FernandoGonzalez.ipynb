{
 "cells": [
  {
   "cell_type": "markdown",
   "metadata": {},
   "source": [
    "\n",
    "https://www.economist.com/graphic-detail/2018/07/26/python-is-becoming-the-worlds-most-popular-coding-language"
   ]
  },
  {
   "cell_type": "markdown",
   "metadata": {},
   "source": [
    "# Resúmen 1:\n",
    "\n",
    "## Programming language of the year? Python is standout in latest rankings:\n",
    "\n",
    "Python se ha vuelto uno de los lenguajes de programación más utilizados del mundo últimamente habiéndose sido creado en 1989 por Van Rossum. Así mismo se ha vuelto el más popular con los **hackers** ya que tiene una sintáxis sencillas, la comunidad y sus tutoriales y amplia gama de librerias de uso erróneo.\n",
    "\n",
    "Así mismo se ha dado a conocer que la última versión de Python (3) será la que reemplaze a la actual Python 2 ya que su servicio de soporte en esta versión será hasta el 1 de Enero en 2020, por lo que será vital en los desarrolladores poder pasar todos los proyectos actuales en *Python 2 al 3.*\n",
    "\n",
    "Otros lenguajes de programación que están destacando serían MATLAB o Kotlin que es el lenguaje de pogramación para aplicaciones de Android. En menor medida son algunos como Rust o TypeScript de Microsoft.\n",
    "\n",
    "Actualmente el top 20 de los lenguajes a Enero de 2019 según la lista de Tiobe serían:\n",
    ">\n",
    "> Java, C, Python, C++, Visual Basic .NET, JavaScript, C#, PHP, SQL, Objective-C, MATLAB, R, Perl, Assembly language, Swift, Go, Delphi/Object Pascal, Ruby, PL/SQL, and Visual Basic.\n",
    ">\n",
    "\n",
    "### Fuente: [zdnet](https://www.zdnet.com/article/programming-language-of-the-year-python-is-standout-in-latest-rankings/)"
   ]
  },
  {
   "cell_type": "markdown",
   "metadata": {},
   "source": [
    "    \n",
    "\n",
    "\n",
    "\n",
    "\n"
   ]
  },
  {
   "cell_type": "code",
   "execution_count": null,
   "metadata": {},
   "outputs": [],
   "source": []
  }
 ],
 "metadata": {
  "kernelspec": {
   "display_name": "Python 3",
   "language": "python",
   "name": "python3"
  },
  "language_info": {
   "codemirror_mode": {
    "name": "ipython",
    "version": 3
   },
   "file_extension": ".py",
   "mimetype": "text/x-python",
   "name": "python",
   "nbconvert_exporter": "python",
   "pygments_lexer": "ipython3",
   "version": "3.7.3"
  }
 },
 "nbformat": 4,
 "nbformat_minor": 2
}
