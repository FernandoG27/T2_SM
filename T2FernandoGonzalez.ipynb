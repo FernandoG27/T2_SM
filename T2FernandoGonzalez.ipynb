{
 "cells": [
  {
   "cell_type": "markdown",
   "metadata": {},
   "source": []
  },
  {
   "cell_type": "markdown",
   "metadata": {},
   "source": [
    "# Resúmen 1:\n",
    "\n",
    "## Programming language of the year? Python is standout in latest rankings:\n",
    "\n",
    "Python se ha vuelto uno de los lenguajes de programación más utilizados del mundo últimamente habiéndose sido creado en 1989 por Van Rossum. Así mismo se ha vuelto el más popular con los **hackers** ya que tiene una sintáxis sencillas, la comunidad y sus tutoriales y amplia gama de librerias de uso erróneo.\n",
    "\n",
    "Así mismo se ha dado a conocer que la última versión de Python (3) será la que reemplaze a la actual Python 2 ya que su servicio de soporte en esta versión será hasta el 1 de Enero en 2020, por lo que será vital en los desarrolladores poder pasar todos los proyectos actuales en *Python 2 al 3.*\n",
    "\n",
    "Otros lenguajes de programación que están destacando serían MATLAB o Kotlin que es el lenguaje de pogramación para aplicaciones de Android. En menor medida son algunos como Rust o TypeScript de Microsoft.\n",
    "\n",
    "Actualmente el top 20 de los lenguajes a Enero de 2019 según la lista de Tiobe serían:\n",
    ">\n",
    "> Java, C, Python, C++, Visual Basic .NET, JavaScript, C#, PHP, SQL, Objective-C, MATLAB, R, Perl, Assembly language, Swift, Go, Delphi/Object Pascal, Ruby, PL/SQL, and Visual Basic.\n",
    ">\n",
    "\n",
    "### Fuente: [zdnet](https://www.zdnet.com/article/programming-language-of-the-year-python-is-standout-in-latest-rankings/)"
   ]
  },
  {
   "cell_type": "markdown",
   "metadata": {},
   "source": [
    "# Resúmen 2:\n",
    "\n",
    "Guido van Rossum, el holándes que creo Python hace 3 décaddas en 1989 no esperaba que fuera un lenguaje para un consumo en masa como lo es actualmente, ya que Python se perfila por su facilidad en el aprendizaje, la lectura y poder compartir los datos así como la flexibilidad que ofrece. La popularidad del lenguaje a llegado a tal grado que es más buscado en Google que Kim kardashian por ejemplo.\n",
    "\n",
    "La comunidad actual conocida como Pythonistas han subido más de 145,000 paquetes de software personalizados para un repositorio online que cubre un amplio rango de campos, desde el desarollo de juegos hasta la astronomía. Una de sus aplicaciones más utilizadas por diversas agencias o empresas es el \"machine learning\" que puede tomar patrones de un consumidor y poder predecir ciertos comportamientos aprendiendo de ellos.\n",
    "\n",
    "A el paso que está creciendo Python se perfila para ser el lenguaje común de programación eliminando a los demás. Aún así siendo esta una presunción apresurada ya que como dice el jefe en software de IBM Grady Booch:\n",
    ">\n",
    "> Los lenguajes de programación son como los imperios, una vez que uno crece demasiado parece llegar a la dominación mundial sus rivales comienzan a anidar de manera técnica y cultural. De esta manera se sabe que Python no podrá reemplazar en ciertas aplicaciones a C o C++ del interior de la computadora, o matar a Java quien es popular por construit aplicaciones complicadas o Javascript que potencia la mayoría de páginas web.\n",
    ">\n",
    "\n",
    "De cualquier forma, la comunidad de Python debe estar alerta ya que hay una historia de otros lenguajes con un boom en popularidad efímero como Fortran, Lisp o Ada.\n",
    "\n",
    "\n",
    "### Fuente: [economist](https://www.economist.com/graphic-detail/2018/07/26/python-is-becoming-the-worlds-most-popular-coding-language)\n",
    "\n",
    "\n",
    "\n"
   ]
  },
  {
   "cell_type": "code",
   "execution_count": null,
   "metadata": {},
   "outputs": [],
   "source": []
  }
 ],
 "metadata": {
  "kernelspec": {
   "display_name": "Python 3",
   "language": "python",
   "name": "python3"
  },
  "language_info": {
   "codemirror_mode": {
    "name": "ipython",
    "version": 3
   },
   "file_extension": ".py",
   "mimetype": "text/x-python",
   "name": "python",
   "nbconvert_exporter": "python",
   "pygments_lexer": "ipython3",
   "version": "3.7.3"
  }
 },
 "nbformat": 4,
 "nbformat_minor": 2
}
